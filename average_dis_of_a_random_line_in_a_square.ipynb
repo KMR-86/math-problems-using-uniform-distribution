{
 "cells": [
  {
   "cell_type": "code",
   "execution_count": 63,
   "metadata": {},
   "outputs": [
    {
     "name": "stdout",
     "output_type": "stream",
     "text": [
      "0.5210647433072999\n"
     ]
    }
   ],
   "source": [
    "from random import seed\n",
    "from random import random\n",
    "from datetime import datetime\n",
    "import math\n",
    "\n",
    "seed(datetime.now())\n",
    "min=0\n",
    "max=1\n",
    "\n",
    "def get_random_float_value_in_range(min,max):\n",
    "    x=random()\n",
    "    x=min + (x * (max - min))\n",
    "    return x\n",
    "\n",
    "\n",
    "total_dis=0\n",
    "for i in range(0,100000):\n",
    "    x1=get_random_float_value_in_range(min,max)\n",
    "    y1=get_random_float_value_in_range(min,max)\n",
    "    x2=get_random_float_value_in_range(min,max)\n",
    "    y2=get_random_float_value_in_range(min,max)\n",
    "    distance=math.sqrt(((x1-x2)**2)+((y1-y2)**2))\n",
    "    total_dis=total_dis+distance\n",
    "\n",
    "print(total_dis/100000)"
   ]
  },
  {
   "cell_type": "code",
   "execution_count": null,
   "metadata": {},
   "outputs": [],
   "source": []
  },
  {
   "cell_type": "code",
   "execution_count": null,
   "metadata": {},
   "outputs": [],
   "source": []
  },
  {
   "cell_type": "code",
   "execution_count": null,
   "metadata": {},
   "outputs": [],
   "source": []
  },
  {
   "cell_type": "code",
   "execution_count": null,
   "metadata": {},
   "outputs": [],
   "source": []
  }
 ],
 "metadata": {
  "kernelspec": {
   "display_name": "Python 3",
   "language": "python",
   "name": "python3"
  },
  "language_info": {
   "codemirror_mode": {
    "name": "ipython",
    "version": 3
   },
   "file_extension": ".py",
   "mimetype": "text/x-python",
   "name": "python",
   "nbconvert_exporter": "python",
   "pygments_lexer": "ipython3",
   "version": "3.7.4"
  }
 },
 "nbformat": 4,
 "nbformat_minor": 2
}
